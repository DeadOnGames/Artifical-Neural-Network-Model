{
 "cells": [
  {
   "cell_type": "markdown",
   "id": "2fcfd2f4",
   "metadata": {},
   "source": [
    "# Assignment 1"
   ]
  },
  {
   "cell_type": "markdown",
   "id": "a6542960",
   "metadata": {},
   "source": [
    "## Task 2"
   ]
  },
  {
   "cell_type": "code",
   "execution_count": 1,
   "id": "8451639d",
   "metadata": {
    "scrolled": true
   },
   "outputs": [
    {
     "name": "stdout",
     "output_type": "stream",
     "text": [
      "[[ 0.       17.99     10.38     ...  0.44761  -2.3898    0.13107 ]\n",
      " [ 0.       20.57     17.77     ...  0.35032  -1.8265   -0.067801]\n",
      " [ 0.       19.69     21.25     ...  0.35261  -0.61448  -0.29397 ]\n",
      " ...\n",
      " [ 1.       12.47     17.31     ...  0.1053    0.3035    0.07661 ]\n",
      " [ 0.       18.49     17.52     ...  0.1663    0.251     0.09445 ]\n",
      " [ 0.       20.59     21.24     ...  0.2113    0.248     0.08999 ]]\n"
     ]
    }
   ],
   "source": [
    "import numpy as np\n",
    "import matplotlib.pyplot as plt\n",
    "from sklearn import metrics\n",
    "from sklearn import preprocessing\n",
    "from sklearn.model_selection import train_test_split\n",
    "data = np.loadtxt(open(\"MixCancer.csv\"), delimiter=\",\", skiprows=1)\n",
    "print (data)"
   ]
  },
  {
   "cell_type": "code",
   "execution_count": 2,
   "id": "28fb7160",
   "metadata": {},
   "outputs": [
    {
     "name": "stdout",
     "output_type": "stream",
     "text": [
      "(500, 30)\n",
      "(500, 1)\n"
     ]
    }
   ],
   "source": [
    "#extract input and output values\n",
    "x = data[:,1:]\n",
    "x = preprocessing.MinMaxScaler().fit_transform(x)\n",
    "y = data[:,0]\n",
    "y= y.reshape(len(y),1)\n",
    "print(x.shape)\n",
    "print(y.shape)"
   ]
  },
  {
   "cell_type": "code",
   "execution_count": 3,
   "id": "2c95f0c7",
   "metadata": {},
   "outputs": [
    {
     "name": "stdout",
     "output_type": "stream",
     "text": [
      "(250, 30)\n",
      "(250, 1)\n",
      "(250, 30)\n",
      "(250, 1)\n"
     ]
    }
   ],
   "source": [
    "# spliting data into train/test sets\n",
    "x_train, x_test, y_train, y_test = train_test_split(x, y,test_size=0.5, random_state=0)\n",
    "print(x_train.shape)\n",
    "print(y_train.shape)\n",
    "print(x_test.shape)\n",
    "print(y_test.shape)"
   ]
  },
  {
   "cell_type": "code",
   "execution_count": 4,
   "id": "5caf06e0",
   "metadata": {},
   "outputs": [],
   "source": [
    "#fixing seed of the random number generator, this will ensure that we always get the same result\n",
    "np.random.seed(42) \n",
    "\n",
    "#initialising parameters\n",
    "hid_neurons = 5\n",
    "w1 = np.random.uniform(-1,1,[x_train.shape[1],hid_neurons]) #weights of the first layer\n",
    "w2 = np.random.uniform(-1,1,[hid_neurons,1]) #weights of the second layer\n",
    "\n",
    "#Bias set to zero \n",
    "b1 = np.zeros([1,hid_neurons]) #bias of the first layer\n",
    "b2 = 0"
   ]
  },
  {
   "cell_type": "code",
   "execution_count": 5,
   "id": "d601a0e8",
   "metadata": {},
   "outputs": [],
   "source": [
    "#sigmoid fucntion\n",
    "def sigmoid(v):\n",
    "    return 1/(1+np.exp(-v))\n",
    "\n",
    "def sigmoid_derivative(v):\n",
    "    return sigmoid(v)*(1-sigmoid(v))\n",
    "\n",
    "def reLu(v):\n",
    "    return np.maximum(v,0)\n",
    "\n",
    "def reLu_der(v):\n",
    "    v[v<=0] = 0\n",
    "    v[v>0] = 1\n",
    "    return v\n",
    "\n",
    "#Loss fucntion\n",
    "def crossEntrop(o,y):\n",
    "    return (-y*(np.log(o)) - (1-y)* np.log(1-o))\n",
    "\n",
    "def crossEntrDeriv(o,y):\n",
    "    return -(y/o - (1-y)/(1-o))"
   ]
  },
  {
   "cell_type": "code",
   "execution_count": 6,
   "id": "7bdb1bb2",
   "metadata": {},
   "outputs": [],
   "source": [
    "l = 0.5\n",
    "minibatch_size = 32\n",
    "epochs = 2000 \n",
    "\n",
    "train_E = []\n",
    "test_E = []\n",
    "train_Acc = []\n",
    "test_Acc = []\n",
    "\n",
    "for epoch in range(epochs):\n",
    "    for i in range(0, x.shape[0], minibatch_size):\n",
    "        x_mini = x[i:i + minibatch_size-1,:]\n",
    "        y_mini = y[i:i + minibatch_size-1,:]\n",
    "        \n",
    "        #feed forward\n",
    "        in1 = x_mini@w1 + b1\n",
    "        out1 = reLu(in1)\n",
    "        in2 = out1@w2 + b2\n",
    "        out2 = sigmoid(in2)\n",
    "\n",
    "\n",
    "        #backpropagation Layer 2\n",
    "        dE_dO2 = crossEntrDeriv(out2, y_mini)\n",
    "        dO2_dIn2 = sigmoid_derivative(in2)\n",
    "        dIn2_dW2 = out1\n",
    "        dIn2_B2 = 1\n",
    "        dE_dW2 = (1/x_mini.shape[0])*dIn2_dW2.T@(dE_dO2*dO2_dIn2)\n",
    "        dE_dB2 = (1/x_mini.shape[0])*np.ones([1,len(x_mini)])@(dE_dO2*dO2_dIn2)\n",
    "        \n",
    "        #backpropagation Layer 1\n",
    "        dIn2_dO1 = w2\n",
    "        dO1_dIn1 = reLu_der(in1)\n",
    "        dIn1_dW1 = x_mini\n",
    "        dE_dW1 = (1/x_mini.shape[0])*dIn1_dW1.T@((dE_dO2*dO2_dIn2@dIn2_dO1.T)*dO1_dIn1)\n",
    "        dE_dB1 = (1/x_mini.shape[0])*np.ones([len(x_mini)])@((dE_dO2*dO2_dIn2@dIn2_dO1.T)*dO1_dIn1)\n",
    "\n",
    "        #updating weights and biases\n",
    "        b2-=l*dE_dB2\n",
    "        w2-=l*dE_dW2\n",
    "        b1-=l*dE_dB1\n",
    "        w1-=l*dE_dW1\n",
    "    \n",
    "    #error\n",
    "    #error_train = 0.5*np.power((sigmoid(x@w1 + b1)-y))\n",
    "    error_train = crossEntrop(out2 ,y_mini)\n",
    "\n",
    "    #train_E.append(0.5*np.power((sigmoid(x@w1 + b1)-y),2).mean())\n",
    "    error_test = crossEntrop(sigmoid(reLu(x_test@w1+b1)@w2+b2),y_test)\n",
    "    test_E.append(error_test.mean())\n",
    "\n",
    "    #accuracy\n",
    "    predictions_train = np.where(out2 > 0.5, 1,0)\n",
    "    prediction_test = np.where(sigmoid(reLu(x_test@w1+b1)@w2+b2) > 0.5,1,0)\n",
    "\n",
    "    test_Acc.append(metrics.accuracy_score(y_test,prediction_test))\n",
    "    train_E.append(error_train.mean())\n",
    "    train_Acc.append(metrics.accuracy_score(y_mini,predictions_train))\n",
    "        "
   ]
  },
  {
   "cell_type": "code",
   "execution_count": 7,
   "id": "0490350a",
   "metadata": {
    "scrolled": true
   },
   "outputs": [
    {
     "name": "stderr",
     "output_type": "stream",
     "text": [
      "C:\\Users\\elise\\AppData\\Local\\Temp/ipykernel_17448/466558426.py:7: UserWarning: Matplotlib is currently using module://matplotlib_inline.backend_inline, which is a non-GUI backend, so cannot show the figure.\n",
      "  f1.show()\n",
      "C:\\Users\\elise\\AppData\\Local\\Temp/ipykernel_17448/466558426.py:15: UserWarning: Matplotlib is currently using module://matplotlib_inline.backend_inline, which is a non-GUI backend, so cannot show the figure.\n",
      "  f2.show()\n"
     ]
    },
    {
     "data": {
      "image/png": "[encoded data removed]",
      "text/plain": [
       "<Figure size 432x288 with 1 Axes>"
      ]
     },
     "metadata": {
      "needs_background": "light"
     },
     "output_type": "display_data"
    },
    {
     "data": {
      "image/png": "[encoded data removed]",
      "text/plain": [
       "<Figure size 432x288 with 1 Axes>"
      ]
     },
     "metadata": {
      "needs_background": "light"
     },
     "output_type": "display_data"
    }
   ],
   "source": [
    "z=np.arange(len(train_E))\n",
    "f1=plt.figure(1)\n",
    "plt.plot(z,train_E,label=\"train\",color='#DE3163')\n",
    "plt.plot(z,test_E,label=\"test\",color='#3163de')\n",
    "plt.legend(loc='best')\n",
    "plt.title('Error/Loss')\n",
    "f1.show()\n",
    "\n",
    "z=np.arange(len(test_E))\n",
    "f2=plt.figure(2)\n",
    "plt.plot(z,train_Acc,label=\"train\",color='#DE3163')\n",
    "plt.plot(z,test_Acc,label=\"test\",color='#3163de')\n",
    "plt.legend(loc='best')\n",
    "plt.title('Accuracy')\n",
    "f2.show()\n",
    "\n",
    "\n"
   ]
  },
  {
   "cell_type": "code",
   "execution_count": 8,
   "id": "8a213495",
   "metadata": {},
   "outputs": [
    {
     "name": "stdout",
     "output_type": "stream",
     "text": [
      "Final Accuracy:  0.976\n",
      "Final error/loss:  0.02059773814603081\n"
     ]
    }
   ],
   "source": [
    "print('Final Accuracy: ', metrics.accuracy_score(y_test,np.where(sigmoid(reLu(x_test@w1+b1)@w2+b2) > 0.5,1,0)))    \n",
    "print('Final error/loss: ', metrics.mean_squared_error(sigmoid(reLu(x_test@w1+b1)@w2+b2),y_test))"
   ]
  },
  {
   "cell_type": "code",
   "execution_count": null,
   "id": "9313507a",
   "metadata": {},
   "outputs": [],
   "source": []
  }
 ],
 "metadata": {
  "kernelspec": {
   "display_name": "Python 3 (ipykernel)",
   "language": "python",
   "name": "python3"
  },
  "language_info": {
   "codemirror_mode": {
    "name": "ipython",
    "version": 3
   },
   "file_extension": ".py",
   "mimetype": "text/x-python",
   "name": "python",
   "nbconvert_exporter": "python",
   "pygments_lexer": "ipython3",
   "version": "3.9.7"
  }
 },
 "nbformat": 4,
 "nbformat_minor": 5
}
